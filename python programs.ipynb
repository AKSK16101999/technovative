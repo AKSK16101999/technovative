{
 "cells": [
  {
   "cell_type": "markdown",
   "metadata": {},
   "source": [
    "# 1]. TRAILING ZERO IN FACTORIAL "
   ]
  },
  {
   "cell_type": "raw",
   "metadata": {},
   "source": [
    "5!=120    ----> 1 zero\n",
    "10!=100\n",
    "i=5\n",
    "n/i\n",
    "update count\n",
    "update i=i*5\n",
    "\n",
    "\n",
    "trailing zeros always produce by prime factor 2,5"
   ]
  },
  {
   "cell_type": "code",
   "execution_count": 1,
   "metadata": {},
   "outputs": [
    {
     "name": "stdout",
     "output_type": "stream",
     "text": [
      "enter the no:50\n",
      "no of zero count: 12\n"
     ]
    }
   ],
   "source": [
    "def zero_count(n):\n",
    "    count=0\n",
    "    i=5\n",
    "    while(n/i>=1):\n",
    "        count+=int(n/i)\n",
    "        i*=5\n",
    "    return count\n",
    "\n",
    "\n",
    "n=int(input(\"enter the no:\"))\n",
    "print(\"no of zero count:\",zero_count(n))"
   ]
  },
  {
   "cell_type": "markdown",
   "metadata": {},
   "source": [
    "# 2]. TRAILING NO OF  ZEROS IN PRODUCT OF TWO FACTORIALS"
   ]
  },
  {
   "cell_type": "code",
   "execution_count": 2,
   "metadata": {},
   "outputs": [
    {
     "name": "stdout",
     "output_type": "stream",
     "text": [
      "enter the two no:5 25\n",
      "no of zero count: 7\n"
     ]
    }
   ],
   "source": [
    "def zero_count(n):\n",
    "    count=0\n",
    "    i=5\n",
    "    while(n/i>=1):\n",
    "        count+=int(n/i)\n",
    "        i*=5\n",
    "    return count\n",
    "\n",
    "def product_fact(n,m):\n",
    "    return zero_count(n) + zero_count(m)\n",
    "n,m=input(\"enter the two no:\").split(\" \")\n",
    "print(\"no of zero count:\",product_fact(int(n),int(m)))"
   ]
  },
  {
   "cell_type": "markdown",
   "metadata": {},
   "source": [
    "# 3].GCD OF FACTORIALS OF TWO NO"
   ]
  },
  {
   "cell_type": "code",
   "execution_count": 3,
   "metadata": {},
   "outputs": [
    {
     "name": "stdout",
     "output_type": "stream",
     "text": [
      "enter two no:3 5\n",
      "gcd of two factorial no is: 6\n"
     ]
    }
   ],
   "source": [
    "def factorial_no(n):\n",
    "    if n==1:\n",
    "        return 1\n",
    "    elif n==2:\n",
    "        return 2\n",
    "    else:\n",
    "        return n * factorial_no(n-1)\n",
    "\n",
    "def gcd(n,m):\n",
    "    return (min(factorial_no(n),factorial_no(m)))\n",
    "\n",
    "n,m= input(\"enter two no:\").split(\" \")\n",
    "n=int(n)\n",
    "m=int(m)\n",
    "print(\"gcd of two factorial no is:\",gcd(n,m))\n"
   ]
  },
  {
   "cell_type": "markdown",
   "metadata": {},
   "source": [
    "# 4]. Count maximum consecutive 1 "
   ]
  },
  {
   "cell_type": "raw",
   "metadata": {},
   "source": [
    "count the maximum count of ones in given string"
   ]
  },
  {
   "cell_type": "code",
   "execution_count": 4,
   "metadata": {},
   "outputs": [
    {
     "name": "stdout",
     "output_type": "stream",
     "text": [
      "enter no having 1:17717111144131\n"
     ]
    },
    {
     "data": {
      "text/plain": [
       "8"
      ]
     },
     "execution_count": 4,
     "metadata": {},
     "output_type": "execute_result"
    }
   ],
   "source": [
    "def max_consecutive(n):\n",
    "    count=0\n",
    "    for i in n:\n",
    "        if (i == \"1\"):\n",
    "            count+=1\n",
    "        else:\n",
    "            pass\n",
    "    return count\n",
    "n=input(\"enter no having 1:\")\n",
    "max_consecutive(n)"
   ]
  },
  {
   "cell_type": "markdown",
   "metadata": {},
   "source": [
    "# 5]. MISSING NO"
   ]
  },
  {
   "cell_type": "raw",
   "metadata": {},
   "source": [
    "find the missing no"
   ]
  },
  {
   "cell_type": "code",
   "execution_count": 5,
   "metadata": {},
   "outputs": [
    {
     "data": {
      "text/plain": [
       "6"
      ]
     },
     "execution_count": 5,
     "metadata": {},
     "output_type": "execute_result"
    }
   ],
   "source": [
    "def missing_no(list_,l):\n",
    "    return (l*(l+1)//2 - sum(list_))\n",
    "\n",
    "list_=[1,2,3,5,4,7,9,8]\n",
    "l=len(list_)+1\n",
    "missing_no(list_,l)"
   ]
  },
  {
   "cell_type": "markdown",
   "metadata": {},
   "source": [
    "# 6]. remove unsorted no to make sorted array"
   ]
  },
  {
   "cell_type": "code",
   "execution_count": 6,
   "metadata": {},
   "outputs": [
    {
     "name": "stdout",
     "output_type": "stream",
     "text": [
      "[1, 3, 4, 6, 7, 8, 9]\n"
     ]
    }
   ],
   "source": [
    "list1=[1,3,5,4,2,6,7,8,5,9]\n",
    "for i in list1:\n",
    "    if len(list1)<=i:\n",
    "        pass\n",
    "    else:\n",
    "        max1=list1[i]\n",
    "        if (max1 <list1[i+1]):\n",
    "            pass  \n",
    "        else:\n",
    "            a=list1[i+1]\n",
    "            list1.remove(a)\n",
    "print(list1)"
   ]
  },
  {
   "cell_type": "markdown",
   "metadata": {},
   "source": [
    "# 7]. min left max right"
   ]
  },
  {
   "cell_type": "code",
   "execution_count": 7,
   "metadata": {},
   "outputs": [
    {
     "name": "stdout",
     "output_type": "stream",
     "text": [
      "1\n",
      "9\n"
     ]
    }
   ],
   "source": [
    "list1=[2,4,6,5,3,1,6,8,9,4]\n",
    "print(min(list1[0:]))\n",
    "print(max(list1[:-1]))"
   ]
  },
  {
   "cell_type": "markdown",
   "metadata": {},
   "source": [
    "# 8].find first and last position of element in sorted array"
   ]
  },
  {
   "cell_type": "code",
   "execution_count": 8,
   "metadata": {},
   "outputs": [
    {
     "name": "stdout",
     "output_type": "stream",
     "text": [
      "sorted list= [0, 1, 2, 3, 3, 4, 5, 6, 6, 7, 8, 9]\n",
      "first ele pos in orignal list= 9\n",
      "last ele pos in orignal list= 7\n"
     ]
    }
   ],
   "source": [
    "list_=[3,2,4,6,5,7,8,9,1,0,3,6]\n",
    "def findpos(list_,first,last):\n",
    "    for i in list_:\n",
    "        if (list_[i]==first):\n",
    "            print(\"first ele pos in orignal list=\",i)\n",
    "    for i in list_:\n",
    "        if (list_[i]==last):\n",
    "            print(\"last ele pos in orignal list=\",i)\n",
    "            \n",
    "list2=[]     \n",
    "for i in list_:\n",
    "    list2.append(i)\n",
    "list2.sort()\n",
    "print(\"sorted list=\",list2)\n",
    "last=list2[-1]\n",
    "first=list2[0]\n",
    "findpos(list_,first,last)\n"
   ]
  },
  {
   "cell_type": "markdown",
   "metadata": {},
   "source": [
    "# 9]. reverse list in groups"
   ]
  },
  {
   "cell_type": "code",
   "execution_count": 9,
   "metadata": {},
   "outputs": [
    {
     "data": {
      "text/plain": [
       "[[5, 4, 2], [1, 3, 4], [5, 2, 9, 6, 4, 8], [1, 4, 7, 3, 5, 9]]"
      ]
     },
     "execution_count": 9,
     "metadata": {},
     "output_type": "execute_result"
    }
   ],
   "source": [
    "list1=[[2,4,5],[4,3,1],[8,4,6,9,2,5],[9,5,3,7,4,1]]\n",
    "list_=[]\n",
    "for item in list1:\n",
    "    item=item[::-1]\n",
    "    list_.append(list(item))\n",
    "list_"
   ]
  },
  {
   "cell_type": "markdown",
   "metadata": {},
   "source": [
    "# 10]. k largest element"
   ]
  },
  {
   "cell_type": "code",
   "execution_count": 10,
   "metadata": {},
   "outputs": [
    {
     "name": "stdout",
     "output_type": "stream",
     "text": [
      "enter k max no5\n",
      "9\n"
     ]
    }
   ],
   "source": [
    "list_=[4,2,6,4,5,8,9,1,23,54,76,7,87,4,3]\n",
    "def kmaxno(k):\n",
    "    for i in range(k-1):\n",
    "        a=max(list_)\n",
    "        list_.remove(a)\n",
    "    print( max(list_))  \n",
    "\n",
    "k=input(\"enter k max no\")\n",
    "kmaxno(int(k))"
   ]
  }
 ],
 "metadata": {
  "kernelspec": {
   "display_name": "Python 3",
   "language": "python",
   "name": "python3"
  },
  "language_info": {
   "codemirror_mode": {
    "name": "ipython",
    "version": 3
   },
   "file_extension": ".py",
   "mimetype": "text/x-python",
   "name": "python",
   "nbconvert_exporter": "python",
   "pygments_lexer": "ipython3",
   "version": "3.7.6"
  }
 },
 "nbformat": 4,
 "nbformat_minor": 4
}
