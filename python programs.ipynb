{
 "cells": [
  {
   "cell_type": "markdown",
   "metadata": {},
   "source": [
    "# 1]. TRAILING ZERO IN FACTORIAL "
   ]
  },
  {
   "cell_type": "raw",
   "metadata": {},
   "source": [
    "5!=120    ----> 1 zero\n",
    "10!=100\n",
    "i=5\n",
    "n/i\n",
    "update count\n",
    "update i=i*5\n",
    "\n",
    "\n",
    "trailing zeros always produce by prime factor 2,5"
   ]
  },
  {
   "cell_type": "code",
   "execution_count": 5,
   "metadata": {},
   "outputs": [
    {
     "name": "stdout",
     "output_type": "stream",
     "text": [
      "enter the no:100\n",
      "no of zero count: 24\n"
     ]
    }
   ],
   "source": [
    "def zero_count(n):\n",
    "    count=0\n",
    "    i=5\n",
    "    while(n/i>=1):\n",
    "        count+=int(n/i)\n",
    "        i*=5\n",
    "    return count\n",
    "\n",
    "\n",
    "n=int(input(\"enter the no:\"))\n",
    "print(\"no of zero count:\",zero_count(n))"
   ]
  },
  {
   "cell_type": "markdown",
   "metadata": {},
   "source": [
    "# 2]. TRAILING NO OF  ZEROS IN PRODUCT OF TWO FACTORIALS"
   ]
  },
  {
   "cell_type": "code",
   "execution_count": 10,
   "metadata": {},
   "outputs": [
    {
     "name": "stdout",
     "output_type": "stream",
     "text": [
      "enter the two no:5 10\n",
      "no of zero count: 3\n"
     ]
    }
   ],
   "source": [
    "def zero_count(n):\n",
    "    count=0\n",
    "    i=5\n",
    "    while(n/i>=1):\n",
    "        count+=int(n/i)\n",
    "        i*=5\n",
    "    return count\n",
    "\n",
    "def product_fact(n,m):\n",
    "    return zero_count(n) + zero_count(m)\n",
    "n,m=input(\"enter the two no:\").split(\" \")\n",
    "print(\"no of zero count:\",product_fact(int(n),int(m)))"
   ]
  },
  {
   "cell_type": "markdown",
   "metadata": {},
   "source": [
    "# 3].GCD OF FACTORIALS OF TWO NO"
   ]
  },
  {
   "cell_type": "code",
   "execution_count": 5,
   "metadata": {},
   "outputs": [
    {
     "name": "stdout",
     "output_type": "stream",
     "text": [
      "enter two no:3 4\n",
      "gcd of two factorial no is: 6\n"
     ]
    }
   ],
   "source": [
    "def factorial_no(n):\n",
    "    if n==1:\n",
    "        return 1\n",
    "    elif n==2:\n",
    "        return 2\n",
    "    else:\n",
    "        return n * factorial_no(n-1)\n",
    "\n",
    "def gcd(n,m):\n",
    "    return (min(factorial_no(n),factorial_no(m)))\n",
    "\n",
    "n,m= input(\"enter two no:\").split(\" \")\n",
    "n=int(n)\n",
    "m=int(m)\n",
    "print(\"gcd of two factorial no is:\",gcd(n,m))\n"
   ]
  },
  {
   "cell_type": "markdown",
   "metadata": {},
   "source": [
    "# 4]. Count maximum consecutive 1 "
   ]
  },
  {
   "cell_type": "raw",
   "metadata": {},
   "source": [
    "count the maximum count of ones in given string"
   ]
  },
  {
   "cell_type": "code",
   "execution_count": 4,
   "metadata": {},
   "outputs": [
    {
     "name": "stdout",
     "output_type": "stream",
     "text": [
      "enter no having 1:12310111001140\n"
     ]
    },
    {
     "data": {
      "text/plain": [
       "7"
      ]
     },
     "execution_count": 4,
     "metadata": {},
     "output_type": "execute_result"
    }
   ],
   "source": [
    "def max_consecutive(n):\n",
    "    count=0\n",
    "    for i in n:\n",
    "        if (i == \"1\"):\n",
    "            count+=1\n",
    "        else:\n",
    "            pass\n",
    "    return count\n",
    "n=input(\"enter no having 1:\")\n",
    "max_consecutive(n)"
   ]
  },
  {
   "cell_type": "markdown",
   "metadata": {},
   "source": [
    "# 5]. MISSING NO"
   ]
  },
  {
   "cell_type": "raw",
   "metadata": {},
   "source": [
    "find the missing no"
   ]
  },
  {
   "cell_type": "code",
   "execution_count": 27,
   "metadata": {},
   "outputs": [
    {
     "data": {
      "text/plain": [
       "6"
      ]
     },
     "execution_count": 27,
     "metadata": {},
     "output_type": "execute_result"
    }
   ],
   "source": [
    "def missing_no(list_,l):\n",
    "    return (l*(l+1)//2 - sum(list_))\n",
    "\n",
    "list_=[1,2,3,5,4,7,9,8]\n",
    "l=len(list_)+1\n",
    "missing_no(list_,l)"
   ]
  }
 ],
 "metadata": {
  "kernelspec": {
   "display_name": "Python 3",
   "language": "python",
   "name": "python3"
  },
  "language_info": {
   "codemirror_mode": {
    "name": "ipython",
    "version": 3
   },
   "file_extension": ".py",
   "mimetype": "text/x-python",
   "name": "python",
   "nbconvert_exporter": "python",
   "pygments_lexer": "ipython3",
   "version": "3.7.6"
  }
 },
 "nbformat": 4,
 "nbformat_minor": 4
}
