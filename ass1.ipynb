{
 "cells": [
  {
   "cell_type": "markdown",
   "metadata": {},
   "source": [
    "\\# ASSIGNMENT -01"
   ]
  },
  {
   "cell_type": "markdown",
   "metadata": {},
   "source": [
    "### prog 1\n",
    "### write a python code which accept user first name,last name and print them in reverse order  i.e  last name < space> first name. "
   ]
  },
  {
   "cell_type": "code",
   "execution_count": 1,
   "metadata": {},
   "outputs": [
    {
     "name": "stdout",
     "output_type": "stream",
     "text": [
      "enter the first and last name:akshay kanawade\n"
     ]
    }
   ],
   "source": [
    "first_name , last_name=input(\"enter the first and last name:\").split(\" \")"
   ]
  },
  {
   "cell_type": "code",
   "execution_count": 2,
   "metadata": {},
   "outputs": [
    {
     "name": "stdout",
     "output_type": "stream",
     "text": [
      "kanawade akshay\n",
      "kanawade akshay\n"
     ]
    }
   ],
   "source": [
    "print(last_name + \" \" + first_name)\n",
    "print(last_name,first_name)"
   ]
  },
  {
   "cell_type": "markdown",
   "metadata": {},
   "source": [
    "### prog 2\n",
    "### write the python code that accept the color no from 7 shades of rainbow according  to display the no"
   ]
  },
  {
   "cell_type": "code",
   "execution_count": 3,
   "metadata": {},
   "outputs": [],
   "source": [
    "dict={1:'RED',2:'ORANGE',3:'YELLOW',4:'GREEN',5:'BLUE',6:'INDIGO',7:'VIOLET'}\n"
   ]
  },
  {
   "cell_type": "code",
   "execution_count": 4,
   "metadata": {},
   "outputs": [
    {
     "name": "stdout",
     "output_type": "stream",
     "text": [
      "enter the shades no:4\n"
     ]
    }
   ],
   "source": [
    "a=int(input(\"enter the shades no:\"))\n"
   ]
  },
  {
   "cell_type": "code",
   "execution_count": 5,
   "metadata": {},
   "outputs": [
    {
     "name": "stdout",
     "output_type": "stream",
     "text": [
      "GREEN\n"
     ]
    }
   ],
   "source": [
    "print(dict[a])"
   ]
  },
  {
   "cell_type": "markdown",
   "metadata": {},
   "source": [
    "### prog 3\n",
    "###  write the program to print whether the user no is even or odd."
   ]
  },
  {
   "cell_type": "code",
   "execution_count": 6,
   "metadata": {},
   "outputs": [],
   "source": [
    "def even_odd(num):\n",
    "    if num%2 == 0:\n",
    "        print(\"even\")\n",
    "    else:\n",
    "        print(\"odd\")"
   ]
  },
  {
   "cell_type": "code",
   "execution_count": 7,
   "metadata": {},
   "outputs": [
    {
     "name": "stdout",
     "output_type": "stream",
     "text": [
      "enter the no:5234\n"
     ]
    }
   ],
   "source": [
    "num=int(input(\"enter the no:\"))"
   ]
  },
  {
   "cell_type": "code",
   "execution_count": 8,
   "metadata": {},
   "outputs": [
    {
     "name": "stdout",
     "output_type": "stream",
     "text": [
      "even\n"
     ]
    }
   ],
   "source": [
    "even_odd(num)"
   ]
  },
  {
   "cell_type": "markdown",
   "metadata": {},
   "source": [
    "### prog 4\n",
    "### write trhe program to check wether the passed letter is vowel or not,"
   ]
  },
  {
   "cell_type": "code",
   "execution_count": 9,
   "metadata": {},
   "outputs": [],
   "source": [
    "lst=['a','e','i','o','u','A','E','I','O','U']\n"
   ]
  },
  {
   "cell_type": "code",
   "execution_count": 10,
   "metadata": {},
   "outputs": [],
   "source": [
    "def vowel(ch):\n",
    "    for i in lst:\n",
    "        if ch == i:\n",
    "            print(\"vowel\")\n",
    "        else:\n",
    "            print(\"consonant\")\n",
    "            break"
   ]
  },
  {
   "cell_type": "code",
   "execution_count": 11,
   "metadata": {},
   "outputs": [
    {
     "name": "stdout",
     "output_type": "stream",
     "text": [
      "enter the letter:f\n",
      "consonant\n"
     ]
    }
   ],
   "source": [
    "ch=input(\"enter the letter:\")\n",
    "vowel(ch)"
   ]
  },
  {
   "cell_type": "markdown",
   "metadata": {},
   "source": [
    "### prog 6\n",
    "### write the program that accept a positive single digit integer (n) and computes the value of n+nn+nnn \n",
    "eg.if n=5\n",
    "\n",
    "5+55+555=651"
   ]
  },
  {
   "cell_type": "code",
   "execution_count": 12,
   "metadata": {},
   "outputs": [],
   "source": [
    "def comput(number):\n",
    "    if number==0:\n",
    "        print(\"0\")\n",
    "    else:\n",
    "        number=number+number*number+number*number*number\n",
    "        print(number)"
   ]
  },
  {
   "cell_type": "code",
   "execution_count": 13,
   "metadata": {},
   "outputs": [
    {
     "name": "stdout",
     "output_type": "stream",
     "text": [
      "enter the no:4\n"
     ]
    }
   ],
   "source": [
    "number=int(input(\"enter the no:\"))"
   ]
  },
  {
   "cell_type": "code",
   "execution_count": 14,
   "metadata": {},
   "outputs": [
    {
     "name": "stdout",
     "output_type": "stream",
     "text": [
      "84\n"
     ]
    }
   ],
   "source": [
    "comput(number)"
   ]
  },
  {
   "cell_type": "markdown",
   "metadata": {},
   "source": [
    "### prog 7\n",
    "### write the program which accept the radius of circle from the user and compute teh area using try and except"
   ]
  },
  {
   "cell_type": "code",
   "execution_count": 15,
   "metadata": {},
   "outputs": [],
   "source": [
    "def area(radius):\n",
    "    try:\n",
    "        if radius >= 0:\n",
    "            radius=3.14*radius*radius\n",
    "            print(radius)\n",
    "    except:\n",
    "        print(\"error\")"
   ]
  },
  {
   "cell_type": "code",
   "execution_count": 16,
   "metadata": {},
   "outputs": [
    {
     "name": "stdout",
     "output_type": "stream",
     "text": [
      "enter the radius of a circle:8\n"
     ]
    }
   ],
   "source": [
    "radius=int(input(\"enter the radius of a circle:\"))"
   ]
  },
  {
   "cell_type": "code",
   "execution_count": 17,
   "metadata": {},
   "outputs": [
    {
     "name": "stdout",
     "output_type": "stream",
     "text": [
      "200.96\n"
     ]
    }
   ],
   "source": [
    "area(radius)"
   ]
  },
  {
   "cell_type": "markdown",
   "metadata": {},
   "source": [
    "# prog 8\n",
    "### write the program that will return true if the two given int value are same or there  sum or difference  is 5"
   ]
  },
  {
   "cell_type": "code",
   "execution_count": 18,
   "metadata": {},
   "outputs": [
    {
     "name": "stdout",
     "output_type": "stream",
     "text": [
      "enter two values:5 10\n"
     ]
    }
   ],
   "source": [
    "a,b=(input(\"enter two values:\")).split(\" \")\n",
    "a=int(a)\n",
    "b=int(b)"
   ]
  },
  {
   "cell_type": "code",
   "execution_count": 19,
   "metadata": {},
   "outputs": [],
   "source": [
    "def sum_diff(a,b):\n",
    "    if a == b:\n",
    "        print(\"true\")\n",
    "    sum=a+b\n",
    "    diff=a-b\n",
    "    if sum==5 | diff==5:\n",
    "        print(\"TRUE\")"
   ]
  },
  {
   "cell_type": "code",
   "execution_count": 20,
   "metadata": {},
   "outputs": [],
   "source": [
    "sum_diff(a,b)"
   ]
  },
  {
   "cell_type": "markdown",
   "metadata": {},
   "source": [
    "### prog 9\n",
    "### write the program that will take principle, rate and time value and compute the interest and amount"
   ]
  },
  {
   "cell_type": "code",
   "execution_count": 21,
   "metadata": {},
   "outputs": [
    {
     "name": "stdout",
     "output_type": "stream",
     "text": [
      "enter the principle,rate,time:332 3 5\n"
     ]
    }
   ],
   "source": [
    "p,r,t=(input(\"enter the principle,rate,time:\")).split(\" \")\n",
    "p=int(p)\n",
    "r=int(r)\n",
    "t=int(t)"
   ]
  },
  {
   "cell_type": "code",
   "execution_count": 22,
   "metadata": {},
   "outputs": [],
   "source": [
    "def interest(p,r,t):\n",
    "    interest=(p*r*t)/100\n",
    "    amount=p*(1 + r*t)\n",
    "    return interest,amount"
   ]
  },
  {
   "cell_type": "code",
   "execution_count": 23,
   "metadata": {},
   "outputs": [
    {
     "name": "stdout",
     "output_type": "stream",
     "text": [
      "49.8\n",
      "5312\n"
     ]
    }
   ],
   "source": [
    "a,b=interest(p,r,t)\n",
    "print(a)\n",
    "print(b)"
   ]
  },
  {
   "cell_type": "markdown",
   "metadata": {},
   "source": [
    "# prog 10\n",
    "### write the python program to get a string made of the first two and last two char from a given string .\n",
    "### other condition as per the sample\n",
    "### sample string:w3\n",
    "###   expected result: w3w3\n",
    "###    sample string: w\n",
    "###    expected result: empty string."
   ]
  },
  {
   "cell_type": "code",
   "execution_count": 24,
   "metadata": {},
   "outputs": [],
   "source": [
    " def new_str(str):\n",
    "    if len(str)==1:\n",
    "        print(\"empty string\")\n",
    "    else:\n",
    "        str1=str[:2]\n",
    "        str2=str[-2:]\n",
    "        print(str1 + str2)"
   ]
  },
  {
   "cell_type": "code",
   "execution_count": 25,
   "metadata": {},
   "outputs": [
    {
     "name": "stdout",
     "output_type": "stream",
     "text": [
      "enter the string:fsd ery fr jde\n"
     ]
    }
   ],
   "source": [
    "str=input(\"enter the string:\")"
   ]
  },
  {
   "cell_type": "code",
   "execution_count": 26,
   "metadata": {},
   "outputs": [
    {
     "name": "stdout",
     "output_type": "stream",
     "text": [
      "fsde\n"
     ]
    }
   ],
   "source": [
    "new_str(str)"
   ]
  }
 ],
 "metadata": {
  "kernelspec": {
   "display_name": "Python 3",
   "language": "python",
   "name": "python3"
  },
  "language_info": {
   "codemirror_mode": {
    "name": "ipython",
    "version": 3
   },
   "file_extension": ".py",
   "mimetype": "text/x-python",
   "name": "python",
   "nbconvert_exporter": "python",
   "pygments_lexer": "ipython3",
   "version": "3.7.6"
  }
 },
 "nbformat": 4,
 "nbformat_minor": 4
}
