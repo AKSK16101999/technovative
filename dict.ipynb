{
 "cells": [
  {
   "cell_type": "markdown",
   "metadata": {},
   "source": [
    "# convert the paragrap into dictionary"
   ]
  },
  {
   "cell_type": "markdown",
   "metadata": {},
   "source": [
    "'''The call date records of Sushant Singh Rajput revealed that there were no calls or messages exchanged between \n",
    "Rhea Chakraborty and the late actor, after Disha Salian's death. While this revelation has raised a lot of questions,\n",
    "Rhea's call date records are sure to grab your attention.\n",
    " According to Times Now's latest report, the 'Jalebi' actress had called Sushant nearly 94 times while received 51 calls from him.\n",
    "While the total calls exchanged between the two total up to 147 calls.'''"
   ]
  },
  {
   "cell_type": "code",
   "execution_count": 1,
   "metadata": {},
   "outputs": [],
   "source": [
    "dict1={}\n",
    "def fun_str(string1):\n",
    "    for item in string1.split():\n",
    "        dict1[item]=string1.count(item)\n",
    "    return dict1"
   ]
  },
  {
   "cell_type": "code",
   "execution_count": 2,
   "metadata": {},
   "outputs": [
    {
     "name": "stdout",
     "output_type": "stream",
     "text": [
      "enter the string:The call date records of Sushant Singh Rajput revealed that there were no calls or messages exchanged between Rhea Chakraborty and the late actor, after Disha Salian's death. While this revelation has raised a lot of questions, Rhea's call date records are sure to grab your attention. According to Times Now's latest report, the 'Jalebi' actress had called Sushant nearly 94 times while received 51 calls from him. While the total calls exchanged between the two total up to 147 calls\n"
     ]
    }
   ],
   "source": [
    "string1=input(\"enter the string:\")"
   ]
  },
  {
   "cell_type": "code",
   "execution_count": 3,
   "metadata": {},
   "outputs": [],
   "source": [
    "string1=string1.lower()"
   ]
  },
  {
   "cell_type": "code",
   "execution_count": 4,
   "metadata": {},
   "outputs": [
    {
     "data": {
      "text/plain": [
       "{'the': 6,\n",
       " 'call': 7,\n",
       " 'date': 2,\n",
       " 'records': 2,\n",
       " 'of': 2,\n",
       " 'sushant': 2,\n",
       " 'singh': 1,\n",
       " 'rajput': 1,\n",
       " 'revealed': 1,\n",
       " 'that': 1,\n",
       " 'there': 1,\n",
       " 'were': 1,\n",
       " 'no': 2,\n",
       " 'calls': 4,\n",
       " 'or': 7,\n",
       " 'messages': 1,\n",
       " 'exchanged': 2,\n",
       " 'between': 2,\n",
       " 'rhea': 2,\n",
       " 'chakraborty': 1,\n",
       " 'and': 1,\n",
       " 'late': 2,\n",
       " 'actor,': 1,\n",
       " 'after': 1,\n",
       " 'disha': 1,\n",
       " \"salian's\": 1,\n",
       " 'death.': 1,\n",
       " 'while': 3,\n",
       " 'this': 1,\n",
       " 'revelation': 1,\n",
       " 'has': 1,\n",
       " 'raised': 1,\n",
       " 'a': 44,\n",
       " 'lot': 1,\n",
       " 'questions,': 1,\n",
       " \"rhea's\": 1,\n",
       " 'are': 1,\n",
       " 'sure': 1,\n",
       " 'to': 6,\n",
       " 'grab': 1,\n",
       " 'your': 1,\n",
       " 'attention.': 1,\n",
       " 'according': 1,\n",
       " 'times': 2,\n",
       " \"now's\": 1,\n",
       " 'latest': 1,\n",
       " 'report,': 1,\n",
       " \"'jalebi'\": 1,\n",
       " 'actress': 1,\n",
       " 'had': 1,\n",
       " 'called': 1,\n",
       " 'nearly': 1,\n",
       " '94': 1,\n",
       " 'received': 1,\n",
       " '51': 1,\n",
       " 'from': 1,\n",
       " 'him.': 1,\n",
       " 'total': 2,\n",
       " 'two': 1,\n",
       " 'up': 1,\n",
       " '147': 1}"
      ]
     },
     "execution_count": 4,
     "metadata": {},
     "output_type": "execute_result"
    }
   ],
   "source": [
    "fun_str(string1)"
   ]
  },
  {
   "cell_type": "markdown",
   "metadata": {},
   "source": [
    "# convert into dictionary"
   ]
  },
  {
   "cell_type": "markdown",
   "metadata": {},
   "source": [
    "s = \"id,name,age,act,room,dep\\n1,Jack,68,T,13,8\\n17,Betty,88,F,15,7\""
   ]
  },
  {
   "cell_type": "code",
   "execution_count": 1,
   "metadata": {},
   "outputs": [
    {
     "data": {
      "text/plain": [
       "['id1,name,age,act,room,dep', '1,Jack,68,T,13,8', '17,Betty,88,F,15,7']"
      ]
     },
     "execution_count": 1,
     "metadata": {},
     "output_type": "execute_result"
    }
   ],
   "source": [
    "s = \"id1,name,age,act,room,dep\\n1,Jack,68,T,13,8\\n17,Betty,88,F,15,7\"\n",
    "s.split()"
   ]
  },
  {
   "cell_type": "code",
   "execution_count": 2,
   "metadata": {},
   "outputs": [],
   "source": [
    "a,b,c=s.split(\"\\n\")\n",
    "a=a.split(\",\")\n",
    "b=b.split(\",\")\n",
    "c=c.split(\",\")"
   ]
  },
  {
   "cell_type": "code",
   "execution_count": 3,
   "metadata": {},
   "outputs": [
    {
     "data": {
      "text/plain": [
       "{'id1': ('1', '17'),\n",
       " 'name': ('Jack', 'Betty'),\n",
       " 'age': ('68', '88'),\n",
       " 'act': ('T', 'F'),\n",
       " 'room': ('13', '15'),\n",
       " 'dep': ('8', '7')}"
      ]
     },
     "execution_count": 3,
     "metadata": {},
     "output_type": "execute_result"
    }
   ],
   "source": [
    "dict=dict(zip(a,(zip(b,c))))\n",
    "dict"
   ]
  },
  {
   "cell_type": "code",
   "execution_count": 12,
   "metadata": {},
   "outputs": [],
   "source": [
    "def solution(dict,category):\n",
    "     for i in dict:\n",
    "            if i == category:\n",
    "                for j in dict[i]:\n",
    "                    try:\n",
    "                        if int(j):\n",
    "                            return max(list(dict[i]))\n",
    "                    except:\n",
    "                        print(\"error\")\n",
    "                        break"
   ]
  },
  {
   "cell_type": "code",
   "execution_count": 13,
   "metadata": {},
   "outputs": [
    {
     "name": "stdout",
     "output_type": "stream",
     "text": [
      "enter the category:act\n",
      "error\n",
      "error\n"
     ]
    }
   ],
   "source": [
    "category=input(\"enter the category:\")\n",
    "solution(dict,category)"
   ]
  },
  {
   "cell_type": "code",
   "execution_count": null,
   "metadata": {},
   "outputs": [],
   "source": []
  }
 ],
 "metadata": {
  "kernelspec": {
   "display_name": "Python 3",
   "language": "python",
   "name": "python3"
  },
  "language_info": {
   "codemirror_mode": {
    "name": "ipython",
    "version": 3
   },
   "file_extension": ".py",
   "mimetype": "text/x-python",
   "name": "python",
   "nbconvert_exporter": "python",
   "pygments_lexer": "ipython3",
   "version": "3.7.6"
  }
 },
 "nbformat": 4,
 "nbformat_minor": 4
}
