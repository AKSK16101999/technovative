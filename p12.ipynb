{
 "cells": [
  {
   "cell_type": "markdown",
   "metadata": {},
   "source": [
    "# PERFECT NUMBER"
   ]
  },
  {
   "cell_type": "code",
   "execution_count": 1,
   "metadata": {},
   "outputs": [
    {
     "name": "stdout",
     "output_type": "stream",
     "text": [
      "enter the no:6\n",
      "6 is a perfect number\n"
     ]
    }
   ],
   "source": [
    "def perfect(n):\n",
    "    result=0\n",
    "    for i in range(1,n):\n",
    "        if n%i==0:\n",
    "            result=result+i\n",
    "    if n==result:\n",
    "        print(\"{} is a perfect number\".format(n))\n",
    "    else:\n",
    "        print(\"{} is not a perfect number\".format(n))\n",
    "\n",
    "perfect(int(input(\"enter the no:\")))"
   ]
  },
  {
   "cell_type": "markdown",
   "metadata": {},
   "source": [
    "# SWAPPING NUMBERS"
   ]
  },
  {
   "cell_type": "code",
   "execution_count": 2,
   "metadata": {},
   "outputs": [
    {
     "name": "stdout",
     "output_type": "stream",
     "text": [
      "enter no:2\n",
      "enter no:4\n",
      "before swapping a=2 b=4\n",
      "after swapping a=4 and b=2\n"
     ]
    }
   ],
   "source": [
    "def swap(a,b):\n",
    "    b,a=a,b\n",
    "    return a,b\n",
    "\n",
    "a=int(input(\"enter no:\"))\n",
    "b=int(input(\"enter no:\"))\n",
    "print(\"before swapping a={} b={}\".format(a,b))\n",
    "a,b=swap(a,b)\n",
    "print(\"after swapping a={} and b={}\".format(a,b))"
   ]
  },
  {
   "cell_type": "code",
   "execution_count": 3,
   "metadata": {},
   "outputs": [
    {
     "name": "stdout",
     "output_type": "stream",
     "text": [
      "enter no:2\n",
      "enter no:5\n",
      "before swapping a=2 b=5\n",
      "after swapping a=5 and b=2\n"
     ]
    }
   ],
   "source": [
    "def swap(a,b):\n",
    "    a=a+b\n",
    "    b=a-b\n",
    "    a=a-b\n",
    "    return a,b\n",
    "\n",
    "a=int(input(\"enter no:\"))\n",
    "b=int(input(\"enter no:\"))\n",
    "print(\"before swapping a={} b={}\".format(a,b))\n",
    "a,b=swap(a,b)\n",
    "print(\"after swapping a={} and b={}\".format(a,b))"
   ]
  },
  {
   "cell_type": "code",
   "execution_count": 5,
   "metadata": {},
   "outputs": [
    {
     "name": "stdout",
     "output_type": "stream",
     "text": [
      "enter no:4\n",
      "enter no:9\n",
      "before swapping a=4 b=9\n",
      "after swapping a=9 and b=4\n"
     ]
    }
   ],
   "source": [
    "def swap(a,b):\n",
    "    temp=a\n",
    "    a=b\n",
    "    b=temp\n",
    "    return a,b\n",
    "\n",
    "a=int(input(\"enter no:\"))\n",
    "b=int(input(\"enter no:\"))\n",
    "print(\"before swapping a={} b={}\".format(a,b))\n",
    "a,b=swap(a,b)\n",
    "print(\"after swapping a={} and b={}\".format(a,b))"
   ]
  },
  {
   "cell_type": "markdown",
   "metadata": {},
   "source": [
    "# STRING REVERSE"
   ]
  },
  {
   "cell_type": "code",
   "execution_count": 4,
   "metadata": {},
   "outputs": [
    {
     "name": "stdout",
     "output_type": "stream",
     "text": [
      "enter the string:akshay kanawade\n",
      "reversed string: edawanak yahska\n"
     ]
    }
   ],
   "source": [
    "def reverse(str1):\n",
    "    reverse_str=\"\"\n",
    "    for i in str1:\n",
    "        reverse_str=i+reverse_str\n",
    "    return reverse_str\n",
    "\n",
    "str1=input(\"enter the string:\")\n",
    "print(\"reversed string:\",reverse(str1))"
   ]
  },
  {
   "cell_type": "code",
   "execution_count": null,
   "metadata": {},
   "outputs": [],
   "source": []
  },
  {
   "cell_type": "code",
   "execution_count": null,
   "metadata": {},
   "outputs": [],
   "source": []
  },
  {
   "cell_type": "code",
   "execution_count": null,
   "metadata": {},
   "outputs": [],
   "source": []
  },
  {
   "cell_type": "markdown",
   "metadata": {},
   "source": [
    "# PATTERN"
   ]
  },
  {
   "cell_type": "raw",
   "metadata": {},
   "source": [
    "   *   \n",
    "  * *  \n",
    " *   * \n",
    "*     *\n",
    " *   * \n",
    "  * *  \n",
    "   *   \n"
   ]
  },
  {
   "cell_type": "code",
   "execution_count": 2,
   "metadata": {},
   "outputs": [
    {
     "name": "stdout",
     "output_type": "stream",
     "text": [
      "   *   \n",
      "  * *  \n",
      " *   * \n",
      "*     *\n",
      " *   * \n",
      "  * *  \n",
      "   *   \n"
     ]
    }
   ],
   "source": [
    "for i in range(7):\n",
    "    for j in range(7):\n",
    "        if i+j==3 or j-i==3 or i-j==3 or i+j==9:\n",
    "            print(\"*\",end=\"\")\n",
    "        else:\n",
    "            print(end=\" \")\n",
    "    print()"
   ]
  },
  {
   "cell_type": "code",
   "execution_count": null,
   "metadata": {},
   "outputs": [],
   "source": []
  }
 ],
 "metadata": {
  "kernelspec": {
   "display_name": "Python 3",
   "language": "python",
   "name": "python3"
  },
  "language_info": {
   "codemirror_mode": {
    "name": "ipython",
    "version": 3
   },
   "file_extension": ".py",
   "mimetype": "text/x-python",
   "name": "python",
   "nbconvert_exporter": "python",
   "pygments_lexer": "ipython3",
   "version": "3.7.6"
  }
 },
 "nbformat": 4,
 "nbformat_minor": 4
}
