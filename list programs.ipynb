{
 "cells": [
  {
   "cell_type": "markdown",
   "metadata": {},
   "source": [
    "# list program"
   ]
  },
  {
   "cell_type": "markdown",
   "metadata": {},
   "source": [
    "1]. interchange first and last element in list"
   ]
  },
  {
   "cell_type": "code",
   "execution_count": 1,
   "metadata": {},
   "outputs": [
    {
     "name": "stdout",
     "output_type": "stream",
     "text": [
      "before interchange:\n",
      " first=3\n",
      " Last=9\n",
      "after interchange:\n",
      " first=9 \n",
      " last=3\n",
      "[9, 5, 8, 7, 4, 2, 3]\n"
     ]
    }
   ],
   "source": [
    "list1=[3,5,8,7,4,2,9]\n",
    "print(\"before interchange:\\n first={}\\n Last={}\".format(list1[0],list1[-1]))\n",
    "first=list1[0]          \n",
    "list1[0]=list1[-1]          \n",
    "list1[-1]=first\n",
    "print(\"after interchange:\\n first={} \\n last={}\".format(list1[0],list1[-1]))\n",
    "\n",
    "print(list1)\n"
   ]
  },
  {
   "cell_type": "raw",
   "metadata": {},
   "source": [
    "another way\n",
    "\n",
    "1] list1[0],list1[-1]=list1[-1],list1[0]\n",
    "2] first,*middle,last=list1\n",
    "    list1=[last,*middel,first]\n",
    "3]  first=list1.pop(0)   , last=list1.pop(-1)\n",
    "     list1.insert(0,last)\n",
    "     list1.append(first)\n"
   ]
  },
  {
   "cell_type": "markdown",
   "metadata": {},
   "source": [
    "2]. ways to find length of list"
   ]
  },
  {
   "cell_type": "code",
   "execution_count": 2,
   "metadata": {},
   "outputs": [
    {
     "data": {
      "text/plain": [
       "9"
      ]
     },
     "execution_count": 2,
     "metadata": {},
     "output_type": "execute_result"
    }
   ],
   "source": [
    "list1=[1,4,3,2,5,6,7,8,9]\n",
    "\n",
    "len(list1)     # by using len inbuilt fun."
   ]
  },
  {
   "cell_type": "raw",
   "metadata": {},
   "source": [
    "#another way\n",
    "length=0\n",
    "for i in list1:\n",
    "    length+=1\n",
    "\n",
    "length"
   ]
  },
  {
   "cell_type": "markdown",
   "metadata": {},
   "source": [
    "3]. element exists in list"
   ]
  },
  {
   "cell_type": "code",
   "execution_count": 3,
   "metadata": {},
   "outputs": [
    {
     "name": "stdout",
     "output_type": "stream",
     "text": [
      "enter element:5\n",
      "exist\n"
     ]
    }
   ],
   "source": [
    "list1=[1,4,3,2,5,6,7,8,9]\n",
    "def exist(ele):\n",
    "    for item in list1:\n",
    "        if (item == int(ele)):\n",
    "            print(\"exist\")\n",
    "            \n",
    "ele=input(\"enter element:\")\n",
    "exist(ele)"
   ]
  },
  {
   "cell_type": "markdown",
   "metadata": {},
   "source": [
    "4]. ways to clear list "
   ]
  },
  {
   "cell_type": "code",
   "execution_count": 4,
   "metadata": {},
   "outputs": [
    {
     "data": {
      "text/plain": [
       "[]"
      ]
     },
     "execution_count": 4,
     "metadata": {},
     "output_type": "execute_result"
    }
   ],
   "source": [
    "list1=[1,4,3,2,5,6,7,8,9]\n",
    "list1.clear()\n",
    "list1"
   ]
  },
  {
   "cell_type": "raw",
   "metadata": {},
   "source": [
    "another way\n",
    "list1[:]\n",
    "list1=list1[]"
   ]
  },
  {
   "cell_type": "markdown",
   "metadata": {},
   "source": [
    "5]. Reverse a list"
   ]
  },
  {
   "cell_type": "code",
   "execution_count": 5,
   "metadata": {},
   "outputs": [
    {
     "data": {
      "text/plain": [
       "[9, 8, 7, 6, 5, 2, 3, 4, 1]"
      ]
     },
     "execution_count": 5,
     "metadata": {},
     "output_type": "execute_result"
    }
   ],
   "source": [
    "list1=[1,4,3,2,5,6,7,8,9]\n",
    "list1=list1[::-1]\n",
    "list1"
   ]
  },
  {
   "cell_type": "raw",
   "metadata": {},
   "source": [
    "another way\n",
    "\n",
    "1]  for i in reversed(list1):\n",
    "        print(i)\n",
    "2] list1.reverse()\n",
    "\n",
    "3] list_=[]\n",
    "   for i in reversed(list1):\n",
    "        list_.append(i)"
   ]
  },
  {
   "cell_type": "markdown",
   "metadata": {},
   "source": [
    "6].sum of ele in list"
   ]
  },
  {
   "cell_type": "code",
   "execution_count": 7,
   "metadata": {},
   "outputs": [
    {
     "data": {
      "text/plain": [
       "45"
      ]
     },
     "execution_count": 7,
     "metadata": {},
     "output_type": "execute_result"
    }
   ],
   "source": [
    "list1=[1,4,3,2,5,6,7,8,9]\n",
    "sum1=0\n",
    "for i in range(len(list1)):\n",
    "    sum1=sum1+list1[i]\n",
    "sum1   "
   ]
  },
  {
   "cell_type": "raw",
   "metadata": {},
   "source": [
    "another way:\n",
    "1] sum(list1)\n",
    "2]while(i<len(list1)):\n",
    "    total=total+list1[i]\n",
    "    i+=1\n",
    "3] from functools import reduce\n",
    "   list1=[1,4,3,2,5,6,7,8,9]\n",
    "   sum_=reduce((lambda x,y:x+y),list1)\n",
    "   sum_"
   ]
  },
  {
   "cell_type": "markdown",
   "metadata": {},
   "source": [
    "7]. smallest no in list"
   ]
  },
  {
   "cell_type": "code",
   "execution_count": 8,
   "metadata": {},
   "outputs": [
    {
     "data": {
      "text/plain": [
       "1"
      ]
     },
     "execution_count": 8,
     "metadata": {},
     "output_type": "execute_result"
    }
   ],
   "source": [
    "list1=[10,4,3,2,5,1,6,7,8,9]\n",
    "min1=list1[0]\n",
    "i=1\n",
    "for i in range(len(list1)):\n",
    "    if min1>list1[i]:\n",
    "        min1=list1[i]\n",
    "min1    "
   ]
  },
  {
   "cell_type": "raw",
   "metadata": {},
   "source": [
    "another way\n",
    "1]  min(list1)\n",
    "2]  list1.sort()\n",
    "    min1=list1[:1]"
   ]
  },
  {
   "cell_type": "markdown",
   "metadata": {},
   "source": [
    "8]. second largest element"
   ]
  },
  {
   "cell_type": "code",
   "execution_count": 9,
   "metadata": {},
   "outputs": [
    {
     "data": {
      "text/plain": [
       "9"
      ]
     },
     "execution_count": 9,
     "metadata": {},
     "output_type": "execute_result"
    }
   ],
   "source": [
    "list1=[10,4,3,2,5,1,6,7,8,9]\n",
    "list1.sort()\n",
    "sec_large=list1[-2]\n",
    "sec_large"
   ]
  },
  {
   "cell_type": "raw",
   "metadata": {},
   "source": [
    "another way\n",
    "1]sorted(list1)[-2]\n",
    "2]max1=max(list1)\n",
    "  list1.pop(max1)\n",
    "   max(list1)\n",
    "3]list_=set(list1)\n",
    "list_.remove(max(list_))\n",
    "max(list_)"
   ]
  },
  {
   "cell_type": "code",
   "execution_count": null,
   "metadata": {},
   "outputs": [],
   "source": []
  }
 ],
 "metadata": {
  "kernelspec": {
   "display_name": "Python 3",
   "language": "python",
   "name": "python3"
  },
  "language_info": {
   "codemirror_mode": {
    "name": "ipython",
    "version": 3
   },
   "file_extension": ".py",
   "mimetype": "text/x-python",
   "name": "python",
   "nbconvert_exporter": "python",
   "pygments_lexer": "ipython3",
   "version": "3.7.6"
  }
 },
 "nbformat": 4,
 "nbformat_minor": 4
}
