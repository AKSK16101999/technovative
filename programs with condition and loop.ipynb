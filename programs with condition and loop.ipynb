{
 "cells": [
  {
   "cell_type": "markdown",
   "metadata": {},
   "source": [
    "# 1]  check no is +ve , -ve ,0."
   ]
  },
  {
   "cell_type": "code",
   "execution_count": 1,
   "metadata": {},
   "outputs": [],
   "source": [
    "def check(list1):\n",
    "    for no in list1:\n",
    "        if no>0:\n",
    "            print(\"the no {} is positive\".format(no))\n",
    "        if no<0:\n",
    "            print(\"the no {} is negative\".format(no))\n",
    "        else:\n",
    "            print(\"the no {} is zero\".format(no))"
   ]
  },
  {
   "cell_type": "code",
   "execution_count": 2,
   "metadata": {},
   "outputs": [
    {
     "name": "stdout",
     "output_type": "stream",
     "text": [
      "the no 5 is positive\n",
      "the no 5 is zero\n",
      "the no 0 is zero\n",
      "the no -555 is negative\n"
     ]
    }
   ],
   "source": [
    "list1=[5,0,-555]\n",
    "check(list1)"
   ]
  },
  {
   "cell_type": "markdown",
   "metadata": {},
   "source": [
    "# 2].check no is odd or even."
   ]
  },
  {
   "cell_type": "code",
   "execution_count": 3,
   "metadata": {},
   "outputs": [],
   "source": [
    "def odd_even(list1):\n",
    "    for no in list1:\n",
    "        if no%2==0:\n",
    "            print(\"no {} is even\".format(no))\n",
    "        else:\n",
    "            print(\"no {} is odd\".format(no))"
   ]
  },
  {
   "cell_type": "code",
   "execution_count": 4,
   "metadata": {},
   "outputs": [
    {
     "name": "stdout",
     "output_type": "stream",
     "text": [
      "no 23 is odd\n",
      "no 45 is odd\n",
      "no 44 is even\n",
      "no 68 is even\n",
      "no 90 is even\n",
      "no 18 is even\n",
      "no 58 is even\n"
     ]
    }
   ],
   "source": [
    "list1=[23,45,44,68,90,18,58]\n",
    "odd_even(list1)"
   ]
  },
  {
   "cell_type": "markdown",
   "metadata": {},
   "source": [
    "# 3]. check leap year."
   ]
  },
  {
   "cell_type": "code",
   "execution_count": 5,
   "metadata": {},
   "outputs": [],
   "source": [
    "def leap_year(year):\n",
    "    if year%4==0:\n",
    "        if year%100==0:\n",
    "            if year%400==0:\n",
    "                print(\"{} year is leap year\".format(year))\n",
    "            else:\n",
    "                print(\"{} year is not a leap year\".format(year))\n",
    "        else:\n",
    "            print(\"{} year is a leap year\".format(year))\n",
    "    else:\n",
    "        print(\"{} year is not a leap year\".format(year))"
   ]
  },
  {
   "cell_type": "code",
   "execution_count": 6,
   "metadata": {},
   "outputs": [
    {
     "name": "stdout",
     "output_type": "stream",
     "text": [
      "2000 year is leap year\n"
     ]
    }
   ],
   "source": [
    "leap_year(2000)"
   ]
  },
  {
   "cell_type": "markdown",
   "metadata": {},
   "source": [
    "# 4]. check prime no"
   ]
  },
  {
   "cell_type": "code",
   "execution_count": 7,
   "metadata": {},
   "outputs": [],
   "source": [
    "def check_prime(no):\n",
    "    count=0\n",
    "    for i in range(2,int(no/2)):\n",
    "        if no%i==0:\n",
    "            count+=1\n",
    "    if count==0:\n",
    "        print(\"{} no is prime no\".format(no))\n",
    "    else:\n",
    "        print(\"{} no is not a prime no\".format(no))\n",
    "        "
   ]
  },
  {
   "cell_type": "code",
   "execution_count": 8,
   "metadata": {},
   "outputs": [
    {
     "name": "stdout",
     "output_type": "stream",
     "text": [
      "14 no is not a prime no\n"
     ]
    }
   ],
   "source": [
    "check_prime(14)"
   ]
  },
  {
   "cell_type": "markdown",
   "metadata": {},
   "source": [
    "# 5]. print all prime no in an interval"
   ]
  },
  {
   "cell_type": "code",
   "execution_count": 9,
   "metadata": {},
   "outputs": [],
   "source": [
    "def check_prime(no):\n",
    "    for num in range(1,no):\n",
    "        count=0\n",
    "        for i in range(2,num):\n",
    "            if num%i==0:\n",
    "                count+=1\n",
    "        if count==0:\n",
    "            print(\"{} no is prime no\".format(num))\n",
    "        else:\n",
    "            print(\"{} no is not a prime no\".format(num))\n",
    "        "
   ]
  },
  {
   "cell_type": "code",
   "execution_count": 10,
   "metadata": {},
   "outputs": [
    {
     "name": "stdout",
     "output_type": "stream",
     "text": [
      "1 no is prime no\n",
      "2 no is prime no\n",
      "3 no is prime no\n",
      "4 no is not a prime no\n",
      "5 no is prime no\n",
      "6 no is not a prime no\n",
      "7 no is prime no\n",
      "8 no is not a prime no\n",
      "9 no is not a prime no\n",
      "10 no is not a prime no\n",
      "11 no is prime no\n",
      "12 no is not a prime no\n",
      "13 no is prime no\n"
     ]
    }
   ],
   "source": [
    "check_prime(14)"
   ]
  },
  {
   "cell_type": "markdown",
   "metadata": {},
   "source": [
    "# 6]. find factor of no. "
   ]
  },
  {
   "cell_type": "code",
   "execution_count": 11,
   "metadata": {},
   "outputs": [],
   "source": [
    "def fact(no):\n",
    "    list1=[]\n",
    "    for i in range(2,no):\n",
    "        if no % i ==0:\n",
    "            list1.append(i)\n",
    "    return list1"
   ]
  },
  {
   "cell_type": "code",
   "execution_count": 12,
   "metadata": {},
   "outputs": [
    {
     "data": {
      "text/plain": [
       "[2, 3, 4, 6]"
      ]
     },
     "execution_count": 12,
     "metadata": {},
     "output_type": "execute_result"
    }
   ],
   "source": [
    "ans=fact(12)\n",
    "ans"
   ]
  },
  {
   "cell_type": "markdown",
   "metadata": {},
   "source": [
    "# 7] factorial of a no ."
   ]
  },
  {
   "cell_type": "code",
   "execution_count": 13,
   "metadata": {},
   "outputs": [],
   "source": [
    "def factorial(list_):\n",
    "    for no in list_:\n",
    "        fact=1\n",
    "        if no ==1:\n",
    "            return 1\n",
    "        for i in range(2,no+1):\n",
    "            fact=fact*i\n",
    "        print(\"factorial of {} is {}\".format(no,fact))"
   ]
  },
  {
   "cell_type": "code",
   "execution_count": 14,
   "metadata": {},
   "outputs": [
    {
     "name": "stdout",
     "output_type": "stream",
     "text": [
      "factorial of 2 is 2\n",
      "factorial of 3 is 6\n",
      "factorial of 4 is 24\n",
      "factorial of 5 is 120\n",
      "factorial of 6 is 720\n",
      "factorial of 7 is 5040\n",
      "factorial of 8 is 40320\n",
      "factorial of 9 is 362880\n",
      "factorial of 10 is 3628800\n"
     ]
    }
   ],
   "source": [
    "list_=[2,3,4,5,6,7,8,9,10]\n",
    "factorial(list_)"
   ]
  },
  {
   "cell_type": "markdown",
   "metadata": {},
   "source": [
    "# 8].print fibonacci sequance."
   ]
  },
  {
   "cell_type": "code",
   "execution_count": 15,
   "metadata": {},
   "outputs": [],
   "source": [
    "def fibbo(no):\n",
    "    a=0\n",
    "    b=1\n",
    "    if no==0:\n",
    "        print(a)\n",
    "    if no ==1:\n",
    "        print(\"a,b\")\n",
    "    else:\n",
    "        a=0\n",
    "        b=1\n",
    "        print(a,\",\",b,end=\" , \")\n",
    "        for i in range(1,no):\n",
    "            c=a+b\n",
    "            print(c,end=\" , \")\n",
    "            a=b\n",
    "            b=c\n",
    "        "
   ]
  },
  {
   "cell_type": "code",
   "execution_count": 16,
   "metadata": {},
   "outputs": [
    {
     "name": "stdout",
     "output_type": "stream",
     "text": [
      "0 , 1 , 1 , 2 , 3 , "
     ]
    }
   ],
   "source": [
    "fibbo(4)"
   ]
  },
  {
   "cell_type": "markdown",
   "metadata": {},
   "source": [
    "# 9]. factorial of no using recursion."
   ]
  },
  {
   "cell_type": "code",
   "execution_count": 17,
   "metadata": {},
   "outputs": [],
   "source": [
    "def fact(no):\n",
    "        if no==0:\n",
    "            return 0\n",
    "        if no ==1:\n",
    "            return 1\n",
    "        if no >=2:\n",
    "            return no * fact(no-1)"
   ]
  },
  {
   "cell_type": "code",
   "execution_count": 18,
   "metadata": {},
   "outputs": [
    {
     "data": {
      "text/plain": [
       "120"
      ]
     },
     "execution_count": 18,
     "metadata": {},
     "output_type": "execute_result"
    }
   ],
   "source": [
    "fact(5)"
   ]
  },
  {
   "cell_type": "markdown",
   "metadata": {},
   "source": [
    "# 10]. find sum of natural no in range."
   ]
  },
  {
   "cell_type": "code",
   "execution_count": 19,
   "metadata": {},
   "outputs": [],
   "source": [
    "def sum(no):\n",
    "    sum=0\n",
    "    for i in range(1,no+1):\n",
    "        sum=sum+i\n",
    "    return sum"
   ]
  },
  {
   "cell_type": "code",
   "execution_count": 20,
   "metadata": {},
   "outputs": [
    {
     "data": {
      "text/plain": [
       "5050"
      ]
     },
     "execution_count": 20,
     "metadata": {},
     "output_type": "execute_result"
    }
   ],
   "source": [
    "sum(100)"
   ]
  },
  {
   "cell_type": "markdown",
   "metadata": {},
   "source": [
    "# 11].display multiplication tabel."
   ]
  },
  {
   "cell_type": "code",
   "execution_count": 21,
   "metadata": {},
   "outputs": [],
   "source": [
    "def tabel(no):\n",
    "    for i in range(1,11):\n",
    "        print(\"{} * {} = {}\".format(no,i,no*i))"
   ]
  },
  {
   "cell_type": "code",
   "execution_count": 22,
   "metadata": {},
   "outputs": [
    {
     "name": "stdout",
     "output_type": "stream",
     "text": [
      "5 * 1 = 5\n",
      "5 * 2 = 10\n",
      "5 * 3 = 15\n",
      "5 * 4 = 20\n",
      "5 * 5 = 25\n",
      "5 * 6 = 30\n",
      "5 * 7 = 35\n",
      "5 * 8 = 40\n",
      "5 * 9 = 45\n",
      "5 * 10 = 50\n"
     ]
    }
   ],
   "source": [
    "tabel(5)"
   ]
  },
  {
   "cell_type": "markdown",
   "metadata": {},
   "source": [
    "# 12]. find lcm."
   ]
  },
  {
   "cell_type": "code",
   "execution_count": 23,
   "metadata": {},
   "outputs": [],
   "source": [
    "def lcm(no1,no2):\n",
    "    a=max(no1,no2)\n",
    "    while(True):\n",
    "        if (a%no1==0) and (a%no2==0):\n",
    "            ans=a\n",
    "            break\n",
    "        a+=1\n",
    "    return ans\n",
    "    "
   ]
  },
  {
   "cell_type": "code",
   "execution_count": 24,
   "metadata": {},
   "outputs": [
    {
     "data": {
      "text/plain": [
       "20"
      ]
     },
     "execution_count": 24,
     "metadata": {},
     "output_type": "execute_result"
    }
   ],
   "source": [
    "lcm(4,5)"
   ]
  },
  {
   "cell_type": "markdown",
   "metadata": {},
   "source": [
    "# 13].find hcf."
   ]
  },
  {
   "cell_type": "code",
   "execution_count": 25,
   "metadata": {},
   "outputs": [],
   "source": [
    "def hcf(no1,no2):\n",
    "    a=min(no1,no2)\n",
    "    for i in range(1,a+1):\n",
    "        if (no1%i==0) and (no2%i==0):\n",
    "            ans=i\n",
    "    return ans\n",
    "    "
   ]
  },
  {
   "cell_type": "code",
   "execution_count": 26,
   "metadata": {},
   "outputs": [
    {
     "data": {
      "text/plain": [
       "4"
      ]
     },
     "execution_count": 26,
     "metadata": {},
     "output_type": "execute_result"
    }
   ],
   "source": [
    "hcf(8,12)"
   ]
  },
  {
   "cell_type": "markdown",
   "metadata": {},
   "source": [
    "# 14].check amstrong no."
   ]
  },
  {
   "cell_type": "code",
   "execution_count": 27,
   "metadata": {},
   "outputs": [],
   "source": [
    "def amstrong(no):\n",
    "    ans=0\n",
    "    temp=no\n",
    "    while(no!=0):\n",
    "        a=no%10\n",
    "        ans+=a**3\n",
    "        no=no//10\n",
    "    if temp == ans:\n",
    "        print(\"{} is amstrong no\".format(temp))\n",
    "    else:\n",
    "        print(\"{} is not amstrong no\".format(temp))"
   ]
  },
  {
   "cell_type": "code",
   "execution_count": 28,
   "metadata": {},
   "outputs": [
    {
     "name": "stdout",
     "output_type": "stream",
     "text": [
      "153 is amstrong no\n"
     ]
    }
   ],
   "source": [
    "amstrong(153)\n"
   ]
  },
  {
   "cell_type": "markdown",
   "metadata": {},
   "source": [
    "# 15]. amstrong no in an  any interval"
   ]
  },
  {
   "cell_type": "code",
   "execution_count": 29,
   "metadata": {},
   "outputs": [],
   "source": [
    "def amstrong(r):\n",
    "    for no in range(1,r):\n",
    "        l=int(len(str(no)))\n",
    "        ans=0\n",
    "        temp=no\n",
    "        while(no!=0):\n",
    "            a=no%10\n",
    "            ans+=a**l\n",
    "            no=no//10\n",
    "        if temp == ans:\n",
    "            print(\"{} is amstrong no\".format(temp))"
   ]
  },
  {
   "cell_type": "code",
   "execution_count": 30,
   "metadata": {},
   "outputs": [
    {
     "name": "stdout",
     "output_type": "stream",
     "text": [
      "1 is amstrong no\n",
      "2 is amstrong no\n",
      "3 is amstrong no\n",
      "4 is amstrong no\n",
      "5 is amstrong no\n",
      "6 is amstrong no\n",
      "7 is amstrong no\n",
      "8 is amstrong no\n",
      "9 is amstrong no\n",
      "153 is amstrong no\n",
      "370 is amstrong no\n",
      "371 is amstrong no\n",
      "407 is amstrong no\n",
      "1634 is amstrong no\n"
     ]
    }
   ],
   "source": [
    "amstrong(2000)"
   ]
  },
  {
   "cell_type": "markdown",
   "metadata": {},
   "source": [
    "# 15]. generate a random no"
   ]
  },
  {
   "cell_type": "code",
   "execution_count": 31,
   "metadata": {},
   "outputs": [
    {
     "name": "stdout",
     "output_type": "stream",
     "text": [
      "46\n",
      "39\n"
     ]
    }
   ],
   "source": [
    "import random\n",
    "print(random.randrange(3,100))\n",
    "print(random.randint(3,100))"
   ]
  }
 ],
 "metadata": {
  "kernelspec": {
   "display_name": "Python 3",
   "language": "python",
   "name": "python3"
  },
  "language_info": {
   "codemirror_mode": {
    "name": "ipython",
    "version": 3
   },
   "file_extension": ".py",
   "mimetype": "text/x-python",
   "name": "python",
   "nbconvert_exporter": "python",
   "pygments_lexer": "ipython3",
   "version": "3.7.6"
  }
 },
 "nbformat": 4,
 "nbformat_minor": 4
}
