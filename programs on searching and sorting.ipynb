{
 "cells": [
  {
   "cell_type": "markdown",
   "metadata": {},
   "source": [
    "# SEARCHING"
   ]
  },
  {
   "cell_type": "markdown",
   "metadata": {},
   "source": [
    "# 1]. Linear search"
   ]
  },
  {
   "cell_type": "code",
   "execution_count": 1,
   "metadata": {},
   "outputs": [],
   "source": [
    "def linear_search(array,ele):\n",
    "    for i in range (len(array)):\n",
    "        if array[i] == ele:\n",
    "            return  print(\"ele {}  found at loc {}\".format(ele,i))\n",
    "    return print(\"ele {} is not found\".format(ele))"
   ]
  },
  {
   "cell_type": "code",
   "execution_count": 2,
   "metadata": {},
   "outputs": [
    {
     "name": "stdout",
     "output_type": "stream",
     "text": [
      "enter the element:23\n",
      "ele 23  found at loc 5\n"
     ]
    }
   ],
   "source": [
    "array=[3,4,5,9,6,23,99,54,12,56,98,7]\n",
    "ele=int(input(\"enter the element:\"))\n",
    "linear_search(array,ele)"
   ]
  },
  {
   "cell_type": "markdown",
   "metadata": {},
   "source": [
    "# 2]. Binary search"
   ]
  },
  {
   "cell_type": "markdown",
   "metadata": {},
   "source": [
    "by using recursion"
   ]
  },
  {
   "cell_type": "code",
   "execution_count": 3,
   "metadata": {},
   "outputs": [],
   "source": [
    "def linear_search(array,high,low,ele):\n",
    "        mid=(high+low)//2\n",
    "        if ele== array[mid]:\n",
    "            return  print(\"ele {}  found at loc {}\".format(ele,mid))\n",
    "        elif ele>array[mid]:\n",
    "            return linear_search(array,high,mid+1,ele)\n",
    "        elif ele<array[mid]:\n",
    "            return linear_search(array,mid-1,low,ele)\n",
    "    \n",
    "        return print(\"ele {} is not found\".format(ele))"
   ]
  },
  {
   "cell_type": "code",
   "execution_count": 4,
   "metadata": {},
   "outputs": [
    {
     "name": "stdout",
     "output_type": "stream",
     "text": [
      "enter the element:98\n",
      "ele 98  found at loc 10\n"
     ]
    }
   ],
   "source": [
    "array=[3,4,5,9,6,23,99,54,12,56,98,7]\n",
    "ele=int(input(\"enter the element:\"))\n",
    "low=0\n",
    "high=int(len(array)-1)\n",
    "linear_search(array,high,low,ele)"
   ]
  },
  {
   "cell_type": "markdown",
   "metadata": {},
   "source": [
    "# SORTING"
   ]
  },
  {
   "cell_type": "markdown",
   "metadata": {},
   "source": [
    "# INSERTION SORT"
   ]
  },
  {
   "cell_type": "code",
   "execution_count": 5,
   "metadata": {},
   "outputs": [],
   "source": [
    "def insertion_sort(array):\n",
    "    for i in range(len(array)):\n",
    "        key=array[i]\n",
    "        j=i-1\n",
    "        while j>=0 and key<array[j] :\n",
    "            array[j+1]=array[j]\n",
    "            j-=1\n",
    "        array[j+1]=key"
   ]
  },
  {
   "cell_type": "code",
   "execution_count": 6,
   "metadata": {},
   "outputs": [
    {
     "name": "stdout",
     "output_type": "stream",
     "text": [
      "3\n",
      "4\n",
      "5\n",
      "6\n",
      "7\n",
      "9\n",
      "12\n",
      "23\n",
      "54\n",
      "56\n",
      "98\n",
      "99\n"
     ]
    }
   ],
   "source": [
    "array=[3,4,5,9,6,23,99,54,12,56,98,7]\n",
    "insertion_sort(array)\n",
    "for i in range(len(array)):\n",
    "    print(array[i])"
   ]
  },
  {
   "cell_type": "markdown",
   "metadata": {},
   "source": [
    "# BUBBLE SORT"
   ]
  },
  {
   "cell_type": "code",
   "execution_count": 7,
   "metadata": {},
   "outputs": [],
   "source": [
    "def bubbel_sort(array):\n",
    "    for i in range(0,len(array)-1):\n",
    "        for j in range(0,len(array)-1):\n",
    "            if array[j] > array[j+1] :\n",
    "                temp=array[j]\n",
    "                array[j]=array[j+1]\n",
    "                array[j+1]=temp"
   ]
  },
  {
   "cell_type": "code",
   "execution_count": 8,
   "metadata": {},
   "outputs": [
    {
     "name": "stdout",
     "output_type": "stream",
     "text": [
      "3\n",
      "4\n",
      "5\n",
      "6\n",
      "7\n",
      "9\n",
      "12\n",
      "23\n",
      "54\n",
      "56\n",
      "98\n",
      "99\n"
     ]
    }
   ],
   "source": [
    "array=[3,4,5,9,6,23,99,54,12,56,98,7]\n",
    "bubbel_sort(array)\n",
    "for i in range(len(array)):\n",
    "    print(array[i])"
   ]
  }
 ],
 "metadata": {
  "kernelspec": {
   "display_name": "Python 3",
   "language": "python",
   "name": "python3"
  },
  "language_info": {
   "codemirror_mode": {
    "name": "ipython",
    "version": 3
   },
   "file_extension": ".py",
   "mimetype": "text/x-python",
   "name": "python",
   "nbconvert_exporter": "python",
   "pygments_lexer": "ipython3",
   "version": "3.7.6"
  }
 },
 "nbformat": 4,
 "nbformat_minor": 4
}
